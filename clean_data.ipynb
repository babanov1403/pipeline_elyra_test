{
 "cells": [
  {
   "cell_type": "code",
   "execution_count": 1,
   "id": "2241ac0b-3161-468d-b6c4-acf047a04684",
   "metadata": {
    "execution": {
     "iopub.execute_input": "2024-01-27T08:32:02.470770Z",
     "iopub.status.busy": "2024-01-27T08:32:02.469771Z",
     "iopub.status.idle": "2024-01-27T08:32:03.712771Z",
     "shell.execute_reply": "2024-01-27T08:32:03.711769Z"
    },
    "papermill": {
     "duration": 1.248002,
     "end_time": "2024-01-27T08:32:03.713771",
     "exception": false,
     "start_time": "2024-01-27T08:32:02.465769",
     "status": "completed"
    },
    "tags": []
   },
   "outputs": [],
   "source": [
    "import pandas as pd\n",
    "import numpy as np\n",
    "import matplotlib.pyplot as plt\n",
    "%matplotlib inline\n",
    "import seaborn as sns\n",
    "sns.set()"
   ]
  },
  {
   "cell_type": "code",
   "execution_count": 2,
   "id": "678ce9de-4484-466b-972e-d0ba319a5e11",
   "metadata": {
    "execution": {
     "iopub.execute_input": "2024-01-27T08:32:03.721772Z",
     "iopub.status.busy": "2024-01-27T08:32:03.720772Z",
     "iopub.status.idle": "2024-01-27T08:32:03.791769Z",
     "shell.execute_reply": "2024-01-27T08:32:03.791769Z"
    },
    "papermill": {
     "duration": 0.077001,
     "end_time": "2024-01-27T08:32:03.793771",
     "exception": false,
     "start_time": "2024-01-27T08:32:03.716770",
     "status": "completed"
    },
    "tags": []
   },
   "outputs": [],
   "source": [
    "train = pd.read_csv('train.csv')\n",
    "test = pd.read_csv('test.csv')"
   ]
  },
  {
   "cell_type": "code",
   "execution_count": 3,
   "id": "6ae4c9f7-08f5-44cf-9845-bbd2c1935f3d",
   "metadata": {
    "execution": {
     "iopub.execute_input": "2024-01-27T08:32:03.801771Z",
     "iopub.status.busy": "2024-01-27T08:32:03.800770Z",
     "iopub.status.idle": "2024-01-27T08:32:03.807769Z",
     "shell.execute_reply": "2024-01-27T08:32:03.807769Z"
    },
    "papermill": {
     "duration": 0.020001,
     "end_time": "2024-01-27T08:32:03.816770",
     "exception": false,
     "start_time": "2024-01-27T08:32:03.796769",
     "status": "completed"
    },
    "tags": []
   },
   "outputs": [],
   "source": [
    "train['Vip_Nan'] = np.where(train['VIP'].isnull(), 0, 1)\n",
    "test['Vip_Nan'] = np.where(test['VIP'].isnull(), 0, 1)"
   ]
  },
  {
   "cell_type": "code",
   "execution_count": 4,
   "id": "71e7153c-0b5b-4d66-a763-036524ecdd3c",
   "metadata": {
    "execution": {
     "iopub.execute_input": "2024-01-27T08:32:03.824770Z",
     "iopub.status.busy": "2024-01-27T08:32:03.823769Z",
     "iopub.status.idle": "2024-01-27T08:32:03.839769Z",
     "shell.execute_reply": "2024-01-27T08:32:03.839769Z"
    },
    "papermill": {
     "duration": 0.020999,
     "end_time": "2024-01-27T08:32:03.841770",
     "exception": false,
     "start_time": "2024-01-27T08:32:03.820771",
     "status": "completed"
    },
    "tags": []
   },
   "outputs": [],
   "source": [
    "test['VIP'].fillna(False, inplace = True)\n",
    "train['VIP'].fillna(False, inplace = True)"
   ]
  },
  {
   "cell_type": "code",
   "execution_count": 5,
   "id": "39ccd339-9b37-452f-a4dd-bf72aaa69ab1",
   "metadata": {
    "execution": {
     "iopub.execute_input": "2024-01-27T08:32:03.848771Z",
     "iopub.status.busy": "2024-01-27T08:32:03.848771Z",
     "iopub.status.idle": "2024-01-27T08:32:03.871769Z",
     "shell.execute_reply": "2024-01-27T08:32:03.871769Z"
    },
    "papermill": {
     "duration": 0.029002,
     "end_time": "2024-01-27T08:32:03.873771",
     "exception": false,
     "start_time": "2024-01-27T08:32:03.844769",
     "status": "completed"
    },
    "tags": []
   },
   "outputs": [],
   "source": [
    "train['RoomService'].fillna(0, inplace = True)\n",
    "train['FoodCourt'].fillna(0, inplace = True)\n",
    "train['ShoppingMall'].fillna(0, inplace = True)\n",
    "train['Spa'].fillna(0, inplace = True)\n",
    "train['VRDeck'].fillna(0, inplace = True)\n",
    "\n",
    "test['RoomService'].fillna(0, inplace = True)\n",
    "test['FoodCourt'].fillna(0, inplace = True)\n",
    "test['ShoppingMall'].fillna(0, inplace = True)\n",
    "test['Spa'].fillna(0, inplace = True)\n",
    "test['VRDeck'].fillna(0, inplace = True)"
   ]
  },
  {
   "cell_type": "code",
   "execution_count": 6,
   "id": "3f6c9981-5501-4f27-91c6-4107e9858683",
   "metadata": {
    "execution": {
     "iopub.execute_input": "2024-01-27T08:32:03.880772Z",
     "iopub.status.busy": "2024-01-27T08:32:03.880772Z",
     "iopub.status.idle": "2024-01-27T08:32:03.887769Z",
     "shell.execute_reply": "2024-01-27T08:32:03.887769Z"
    },
    "papermill": {
     "duration": 0.013,
     "end_time": "2024-01-27T08:32:03.889771",
     "exception": false,
     "start_time": "2024-01-27T08:32:03.876771",
     "status": "completed"
    },
    "tags": []
   },
   "outputs": [],
   "source": [
    "train['SpentMoney'] = train['RoomService'] + train['FoodCourt'] + train['ShoppingMall'] + train['Spa'] + train['VRDeck'] \n",
    "test['SpentMoney'] = test['RoomService'] + test['FoodCourt'] + test['ShoppingMall'] + test['Spa'] + test['VRDeck'] "
   ]
  },
  {
   "cell_type": "code",
   "execution_count": 7,
   "id": "145ec1b6-536d-44d6-87e7-fd601a7e489d",
   "metadata": {
    "execution": {
     "iopub.execute_input": "2024-01-27T08:32:03.896771Z",
     "iopub.status.busy": "2024-01-27T08:32:03.896771Z",
     "iopub.status.idle": "2024-01-27T08:32:03.903769Z",
     "shell.execute_reply": "2024-01-27T08:32:03.903769Z"
    },
    "papermill": {
     "duration": 0.013,
     "end_time": "2024-01-27T08:32:03.905771",
     "exception": false,
     "start_time": "2024-01-27T08:32:03.892771",
     "status": "completed"
    },
    "tags": []
   },
   "outputs": [],
   "source": [
    "train.drop(['Vip_Nan'], axis = 1, inplace = True)\n",
    "test.drop(['Vip_Nan'], axis = 1, inplace = True)"
   ]
  },
  {
   "cell_type": "code",
   "execution_count": 8,
   "id": "4e692051-389a-45f9-8579-7652b2e3b68a",
   "metadata": {
    "execution": {
     "iopub.execute_input": "2024-01-27T08:32:03.912769Z",
     "iopub.status.busy": "2024-01-27T08:32:03.912769Z",
     "iopub.status.idle": "2024-01-27T08:32:03.919769Z",
     "shell.execute_reply": "2024-01-27T08:32:03.919769Z"
    },
    "papermill": {
     "duration": 0.013001,
     "end_time": "2024-01-27T08:32:03.921772",
     "exception": false,
     "start_time": "2024-01-27T08:32:03.908771",
     "status": "completed"
    },
    "tags": []
   },
   "outputs": [],
   "source": [
    "train['SpentMoney_IF'] = np.where(train['SpentMoney'] <= train['SpentMoney'].mean(), 0, 1)\n",
    "test['SpentMoney_IF'] = np.where(test['SpentMoney'] <= test['SpentMoney'].mean(), 0, 1)"
   ]
  },
  {
   "cell_type": "code",
   "execution_count": 9,
   "id": "4d6b3fc7-1a43-4d30-9761-33eb2d9853f3",
   "metadata": {
    "execution": {
     "iopub.execute_input": "2024-01-27T08:32:03.929770Z",
     "iopub.status.busy": "2024-01-27T08:32:03.928769Z",
     "iopub.status.idle": "2024-01-27T08:32:03.951789Z",
     "shell.execute_reply": "2024-01-27T08:32:03.951789Z"
    },
    "papermill": {
     "duration": 0.029022,
     "end_time": "2024-01-27T08:32:03.953792",
     "exception": false,
     "start_time": "2024-01-27T08:32:03.924770",
     "status": "completed"
    },
    "tags": []
   },
   "outputs": [],
   "source": [
    "train.drop(['RoomService'], axis = 1, inplace = True)\n",
    "train.drop(['FoodCourt'], axis = 1, inplace = True)\n",
    "train.drop(['ShoppingMall'], axis = 1, inplace = True)\n",
    "train.drop(['Spa'], axis = 1, inplace = True)\n",
    "train.drop(['VRDeck'], axis = 1, inplace = True)\n",
    "\n",
    "test.drop(['RoomService'], axis = 1, inplace = True)\n",
    "test.drop(['FoodCourt'], axis = 1, inplace = True)\n",
    "test.drop(['ShoppingMall'], axis = 1, inplace = True)\n",
    "test.drop(['Spa'], axis = 1, inplace = True)\n",
    "test.drop(['VRDeck'], axis = 1, inplace = True)"
   ]
  },
  {
   "cell_type": "code",
   "execution_count": 10,
   "id": "6b4120d8-43a2-4314-84d1-77262ed676f9",
   "metadata": {
    "execution": {
     "iopub.execute_input": "2024-01-27T08:32:03.961790Z",
     "iopub.status.busy": "2024-01-27T08:32:03.960790Z",
     "iopub.status.idle": "2024-01-27T08:32:03.967790Z",
     "shell.execute_reply": "2024-01-27T08:32:03.967790Z"
    },
    "papermill": {
     "duration": 0.013002,
     "end_time": "2024-01-27T08:32:03.969792",
     "exception": false,
     "start_time": "2024-01-27T08:32:03.956790",
     "status": "completed"
    },
    "tags": []
   },
   "outputs": [],
   "source": [
    "train.drop(['Name'], axis = 1, inplace = True)\n",
    "test.drop(['Name'], axis = 1, inplace = True)"
   ]
  },
  {
   "cell_type": "code",
   "execution_count": 11,
   "id": "e41f7edf-7766-43bb-b653-1e201da54650",
   "metadata": {
    "execution": {
     "iopub.execute_input": "2024-01-27T08:32:03.976791Z",
     "iopub.status.busy": "2024-01-27T08:32:03.976791Z",
     "iopub.status.idle": "2024-01-27T08:32:03.999789Z",
     "shell.execute_reply": "2024-01-27T08:32:03.999789Z"
    },
    "papermill": {
     "duration": 0.029,
     "end_time": "2024-01-27T08:32:04.001790",
     "exception": false,
     "start_time": "2024-01-27T08:32:03.972790",
     "status": "completed"
    },
    "tags": []
   },
   "outputs": [],
   "source": [
    "train['Age'].fillna(train['Age'].mean(), inplace = True)\n",
    "train['CryoSleep'].fillna(np.random.choice([True, False], p = [3/8, 5/8]), inplace = True)\n",
    "\n",
    "test['Age'].fillna(test['Age'].mean(), inplace = True)\n",
    "test['CryoSleep'].fillna(np.random.choice([True, False], p = [3/8, 5/8]), inplace = True)"
   ]
  },
  {
   "cell_type": "code",
   "execution_count": 12,
   "id": "4dd1a764-39a5-4e7d-8b25-85ba1d2889a1",
   "metadata": {
    "execution": {
     "iopub.execute_input": "2024-01-27T08:32:04.008790Z",
     "iopub.status.busy": "2024-01-27T08:32:04.008790Z",
     "iopub.status.idle": "2024-01-27T08:32:04.031790Z",
     "shell.execute_reply": "2024-01-27T08:32:04.031790Z"
    },
    "papermill": {
     "duration": 0.029002,
     "end_time": "2024-01-27T08:32:04.033792",
     "exception": false,
     "start_time": "2024-01-27T08:32:04.004790",
     "status": "completed"
    },
    "tags": []
   },
   "outputs": [],
   "source": [
    "train.drop('Cabin', axis = 1, inplace = True)\n",
    "test.drop('Cabin', axis = 1, inplace = True)\n",
    "train.drop('Age', axis = 1, inplace = True)\n",
    "test.drop('Age', axis = 1, inplace = True)"
   ]
  },
  {
   "cell_type": "code",
   "execution_count": 13,
   "id": "4560a0ff-c167-451b-a58a-18a6a0c7e5d3",
   "metadata": {
    "execution": {
     "iopub.execute_input": "2024-01-27T08:32:04.041791Z",
     "iopub.status.busy": "2024-01-27T08:32:04.041791Z",
     "iopub.status.idle": "2024-01-27T08:32:04.063790Z",
     "shell.execute_reply": "2024-01-27T08:32:04.063790Z"
    },
    "papermill": {
     "duration": 0.027001,
     "end_time": "2024-01-27T08:32:04.064790",
     "exception": false,
     "start_time": "2024-01-27T08:32:04.037789",
     "status": "completed"
    },
    "tags": []
   },
   "outputs": [],
   "source": [
    "train['Destination'].fillna('TRAPPIST-1e', inplace = True)\n",
    "train['HomePlanet'].fillna('Earth', inplace = True)\n",
    "\n",
    "test['Destination'].fillna('TRAPPIST-1e', inplace = True)\n",
    "test['HomePlanet'].fillna('Earth', inplace = True)"
   ]
  },
  {
   "cell_type": "code",
   "execution_count": 14,
   "id": "e3d178f5-da30-4ec6-8798-98d876bf4db7",
   "metadata": {
    "execution": {
     "iopub.execute_input": "2024-01-27T08:32:04.073790Z",
     "iopub.status.busy": "2024-01-27T08:32:04.072791Z",
     "iopub.status.idle": "2024-01-27T08:32:04.079790Z",
     "shell.execute_reply": "2024-01-27T08:32:04.079790Z"
    },
    "papermill": {
     "duration": 0.013002,
     "end_time": "2024-01-27T08:32:04.081792",
     "exception": false,
     "start_time": "2024-01-27T08:32:04.068790",
     "status": "completed"
    },
    "tags": []
   },
   "outputs": [],
   "source": [
    "train.drop('SpentMoney_IF', axis = 1, inplace = True)\n",
    "test.drop('SpentMoney_IF', axis = 1, inplace = True)"
   ]
  },
  {
   "cell_type": "code",
   "execution_count": 15,
   "id": "db97df70-f15e-488c-9077-512be202a6ea",
   "metadata": {
    "execution": {
     "iopub.execute_input": "2024-01-27T08:32:04.089791Z",
     "iopub.status.busy": "2024-01-27T08:32:04.088790Z",
     "iopub.status.idle": "2024-01-27T08:32:04.111790Z",
     "shell.execute_reply": "2024-01-27T08:32:04.111790Z"
    },
    "papermill": {
     "duration": 0.029001,
     "end_time": "2024-01-27T08:32:04.113791",
     "exception": false,
     "start_time": "2024-01-27T08:32:04.084790",
     "status": "completed"
    },
    "tags": []
   },
   "outputs": [],
   "source": [
    "train_test = [train, test]\n",
    "for dataset in train_test:\n",
    "    dataset['HomePlanet'] = dataset['HomePlanet'].map({'Earth':0, 'Europa':1, 'Mars':2}).astype(int)\n",
    "    dataset.loc[ dataset['SpentMoney'] == 0, 'SpentMoney'] = 0\n",
    "    dataset.loc[(dataset['SpentMoney'] > 0) & (dataset['SpentMoney'] <= 714), 'SpentMoney'] = 1\n",
    "    dataset.loc[(dataset['SpentMoney'] > 714) & (dataset['SpentMoney'] <= 1444), 'SpentMoney'] = 2\n",
    "    dataset.loc[(dataset['SpentMoney'] > 1444), 'SpentMoney'] = 3\n",
    "    dataset['Destination'] = dataset['Destination'].map({'TRAPPIST-1e':0, '55 Cancri e':1, 'PSO J318.5-22':2}).astype(int)"
   ]
  },
  {
   "cell_type": "code",
   "execution_count": 16,
   "id": "20e9d228-12ed-4a0e-b09a-78cb54338763",
   "metadata": {
    "execution": {
     "iopub.execute_input": "2024-01-27T08:32:04.121792Z",
     "iopub.status.busy": "2024-01-27T08:32:04.120791Z",
     "iopub.status.idle": "2024-01-27T08:32:04.127790Z",
     "shell.execute_reply": "2024-01-27T08:32:04.127790Z"
    },
    "papermill": {
     "duration": 0.013002,
     "end_time": "2024-01-27T08:32:04.129792",
     "exception": false,
     "start_time": "2024-01-27T08:32:04.116790",
     "status": "completed"
    },
    "tags": []
   },
   "outputs": [],
   "source": [
    "train = train.drop(['PassengerId'], axis=1)"
   ]
  },
  {
   "cell_type": "code",
   "execution_count": 17,
   "id": "9c28b40c-00c2-40e2-8661-78d7ca60953e",
   "metadata": {
    "execution": {
     "iopub.execute_input": "2024-01-27T08:32:04.137790Z",
     "iopub.status.busy": "2024-01-27T08:32:04.136790Z",
     "iopub.status.idle": "2024-01-27T08:32:04.175789Z",
     "shell.execute_reply": "2024-01-27T08:32:04.175789Z"
    },
    "papermill": {
     "duration": 0.045001,
     "end_time": "2024-01-27T08:32:04.177791",
     "exception": false,
     "start_time": "2024-01-27T08:32:04.132790",
     "status": "completed"
    },
    "tags": []
   },
   "outputs": [],
   "source": [
    "train.to_csv('train.csv', index=False)\n",
    "test.to_csv('test.csv', index=False)\n"
   ]
  }
 ],
 "metadata": {
  "kernelspec": {
   "display_name": "Python 3 (ipykernel)",
   "language": "python",
   "name": "python3"
  },
  "language_info": {
   "codemirror_mode": {
    "name": "ipython",
    "version": 3
   },
   "file_extension": ".py",
   "mimetype": "text/x-python",
   "name": "python",
   "nbconvert_exporter": "python",
   "pygments_lexer": "ipython3",
   "version": "3.9.13"
  },
  "papermill": {
   "default_parameters": {},
   "duration": 3.852167,
   "end_time": "2024-01-27T08:32:04.524815",
   "environment_variables": {},
   "exception": null,
   "input_path": "D:\\jupyter\\clean_data.ipynb",
   "output_path": "D:\\jupyter\\clean_data.ipynb",
   "parameters": {},
   "start_time": "2024-01-27T08:32:00.672648",
   "version": "2.5.0"
  }
 },
 "nbformat": 4,
 "nbformat_minor": 5
}