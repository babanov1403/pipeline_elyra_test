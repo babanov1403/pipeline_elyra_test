{
 "cells": [
  {
   "cell_type": "code",
   "execution_count": 1,
   "id": "363d2fb2-3f02-4d23-9b13-10585a486220",
   "metadata": {
    "execution": {
     "iopub.execute_input": "2024-01-27T08:32:06.328933Z",
     "iopub.status.busy": "2024-01-27T08:32:06.328933Z",
     "iopub.status.idle": "2024-01-27T08:32:07.535933Z",
     "shell.execute_reply": "2024-01-27T08:32:07.535933Z"
    },
    "papermill": {
     "duration": 1.213001,
     "end_time": "2024-01-27T08:32:07.537934",
     "exception": false,
     "start_time": "2024-01-27T08:32:06.324933",
     "status": "completed"
    },
    "tags": []
   },
   "outputs": [],
   "source": [
    "import pandas as pd\n",
    "import numpy as np\n",
    "import matplotlib.pyplot as plt\n",
    "%matplotlib inline\n",
    "import seaborn as sns\n",
    "sns.set()"
   ]
  },
  {
   "cell_type": "code",
   "execution_count": 2,
   "id": "5809aad1-7091-48c0-91e0-1f624a865815",
   "metadata": {
    "execution": {
     "iopub.execute_input": "2024-01-27T08:32:07.542935Z",
     "iopub.status.busy": "2024-01-27T08:32:07.542935Z",
     "iopub.status.idle": "2024-01-27T08:32:07.583932Z",
     "shell.execute_reply": "2024-01-27T08:32:07.583932Z"
    },
    "papermill": {
     "duration": 0.046001,
     "end_time": "2024-01-27T08:32:07.585934",
     "exception": false,
     "start_time": "2024-01-27T08:32:07.539933",
     "status": "completed"
    },
    "tags": []
   },
   "outputs": [],
   "source": [
    "train = pd.read_csv('train.csv')\n",
    "test = pd.read_csv('test.csv')"
   ]
  },
  {
   "cell_type": "code",
   "execution_count": 3,
   "id": "6e8896c2-1b1d-4429-b5e2-2662b32ec28f",
   "metadata": {
    "execution": {
     "iopub.execute_input": "2024-01-27T08:32:07.590934Z",
     "iopub.status.busy": "2024-01-27T08:32:07.589933Z",
     "iopub.status.idle": "2024-01-27T08:32:07.599933Z",
     "shell.execute_reply": "2024-01-27T08:32:07.599933Z"
    },
    "papermill": {
     "duration": 0.014002,
     "end_time": "2024-01-27T08:32:07.601934",
     "exception": false,
     "start_time": "2024-01-27T08:32:07.587932",
     "status": "completed"
    },
    "tags": []
   },
   "outputs": [
    {
     "data": {
      "text/plain": [
       "((8693, 5), (8693,), (4277, 5))"
      ]
     },
     "execution_count": 3,
     "metadata": {},
     "output_type": "execute_result"
    }
   ],
   "source": [
    "X_train = train.drop('Transported', axis = 1)\n",
    "y_train = train['Transported']\n",
    "X_test = test.drop('PassengerId', axis = 1)\n",
    "X_train.shape, y_train.shape, X_test.shape"
   ]
  },
  {
   "cell_type": "code",
   "execution_count": 4,
   "id": "778c8645-a4c4-410c-a1eb-066a21a3dd4d",
   "metadata": {
    "execution": {
     "iopub.execute_input": "2024-01-27T08:32:07.605932Z",
     "iopub.status.busy": "2024-01-27T08:32:07.605932Z",
     "iopub.status.idle": "2024-01-27T08:32:07.840933Z",
     "shell.execute_reply": "2024-01-27T08:32:07.839933Z"
    },
    "papermill": {
     "duration": 0.238,
     "end_time": "2024-01-27T08:32:07.841933",
     "exception": false,
     "start_time": "2024-01-27T08:32:07.603933",
     "status": "completed"
    },
    "tags": []
   },
   "outputs": [],
   "source": [
    "from sklearn.linear_model import LogisticRegression\n",
    "from sklearn.svm import SVC, LinearSVC\n",
    "from sklearn.neighbors import KNeighborsClassifier\n",
    "from sklearn.tree import DecisionTreeClassifier\n",
    "from sklearn.ensemble import RandomForestClassifier\n",
    "from sklearn.naive_bayes import GaussianNB\n",
    "from sklearn.linear_model import Perceptron\n",
    "from sklearn.linear_model import SGDClassifier"
   ]
  },
  {
   "cell_type": "code",
   "execution_count": 5,
   "id": "458ef182-9982-4060-810f-2e85d595b38b",
   "metadata": {
    "execution": {
     "iopub.execute_input": "2024-01-27T08:32:07.847935Z",
     "iopub.status.busy": "2024-01-27T08:32:07.847935Z",
     "iopub.status.idle": "2024-01-27T08:32:16.877933Z",
     "shell.execute_reply": "2024-01-27T08:32:16.877933Z"
    },
    "papermill": {
     "duration": 9.036001,
     "end_time": "2024-01-27T08:32:16.879934",
     "exception": false,
     "start_time": "2024-01-27T08:32:07.843933",
     "status": "completed"
    },
    "tags": []
   },
   "outputs": [
    {
     "name": "stdout",
     "output_type": "stream",
     "text": [
      "73.71\n"
     ]
    }
   ],
   "source": [
    "clf = SVC()\n",
    "clf.fit(X_train, y_train)\n",
    "y_pred_svc = clf.predict(X_test)\n",
    "acc_svc = round(clf.score(X_train, y_train) * 100, 2)\n",
    "print (acc_svc)"
   ]
  },
  {
   "cell_type": "code",
   "execution_count": 6,
   "id": "c2a99ce5-3e41-43c4-929e-76452a9ea807",
   "metadata": {
    "execution": {
     "iopub.execute_input": "2024-01-27T08:32:16.885934Z",
     "iopub.status.busy": "2024-01-27T08:32:16.884933Z",
     "iopub.status.idle": "2024-01-27T08:32:16.925933Z",
     "shell.execute_reply": "2024-01-27T08:32:16.925933Z"
    },
    "papermill": {
     "duration": 0.045001,
     "end_time": "2024-01-27T08:32:16.927935",
     "exception": false,
     "start_time": "2024-01-27T08:32:16.882934",
     "status": "completed"
    },
    "tags": []
   },
   "outputs": [],
   "source": [
    "submission = pd.DataFrame({\n",
    "    \"PassengerId\":test[\"PassengerId\"],\n",
    "    \"Transported\":y_pred_svc\n",
    "})\n",
    "submission.to_csv('submission.csv', index=False)"
   ]
  }
 ],
 "metadata": {
  "kernelspec": {
   "display_name": "Python 3 (ipykernel)",
   "language": "python",
   "name": "python3"
  },
  "language_info": {
   "codemirror_mode": {
    "name": "ipython",
    "version": 3
   },
   "file_extension": ".py",
   "mimetype": "text/x-python",
   "name": "python",
   "nbconvert_exporter": "python",
   "pygments_lexer": "ipython3",
   "version": "3.9.13"
  },
  "papermill": {
   "default_parameters": {},
   "duration": 12.74412,
   "end_time": "2024-01-27T08:32:17.277934",
   "environment_variables": {},
   "exception": null,
   "input_path": "D:\\jupyter\\build_model.ipynb",
   "output_path": "D:\\jupyter\\build_model.ipynb",
   "parameters": {},
   "start_time": "2024-01-27T08:32:04.533814",
   "version": "2.5.0"
  }
 },
 "nbformat": 4,
 "nbformat_minor": 5
}