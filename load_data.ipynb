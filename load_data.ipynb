{
 "cells": [
  {
   "cell_type": "markdown",
   "id": "55915edb-5e5b-4eff-ace8-4a5024c1cc4d",
   "metadata": {
    "papermill": {
     "duration": 0.005998,
     "end_time": "2024-01-27T08:31:56.591502",
     "exception": false,
     "start_time": "2024-01-27T08:31:56.585504",
     "status": "completed"
    },
    "tags": []
   },
   "source": [
    "11111"
   ]
  },
  {
   "cell_type": "code",
   "execution_count": 1,
   "id": "50c85448-ea68-4ecd-9f61-417f1cd0b8c1",
   "metadata": {
    "execution": {
     "iopub.execute_input": "2024-01-27T08:31:56.596502Z",
     "iopub.status.busy": "2024-01-27T08:31:56.595502Z",
     "iopub.status.idle": "2024-01-27T08:31:58.490384Z",
     "shell.execute_reply": "2024-01-27T08:31:58.490384Z"
    },
    "papermill": {
     "duration": 1.898882,
     "end_time": "2024-01-27T08:31:58.492385",
     "exception": false,
     "start_time": "2024-01-27T08:31:56.593503",
     "status": "completed"
    },
    "tags": []
   },
   "outputs": [
    {
     "name": "stdout",
     "output_type": "stream",
     "text": [
      "Downloading train.csv to D:\\jupyter\n",
      "\n"
     ]
    },
    {
     "name": "stderr",
     "output_type": "stream",
     "text": [
      "\n",
      "  0%|          | 0.00/787k [00:00<?, ?B/s]\n",
      "100%|##########| 787k/787k [00:00<00:00, 1.20MB/s]\n",
      "100%|##########| 787k/787k [00:00<00:00, 1.20MB/s]\n"
     ]
    }
   ],
   "source": [
    "! kaggle competitions download -c spaceship-titanic -f train.csv"
   ]
  },
  {
   "cell_type": "code",
   "execution_count": 2,
   "id": "23d9781c-ca81-426a-a726-9b0e51ec1f87",
   "metadata": {
    "execution": {
     "iopub.execute_input": "2024-01-27T08:31:58.497386Z",
     "iopub.status.busy": "2024-01-27T08:31:58.496386Z",
     "iopub.status.idle": "2024-01-27T08:32:00.426607Z",
     "shell.execute_reply": "2024-01-27T08:32:00.426607Z"
    },
    "papermill": {
     "duration": 1.934224,
     "end_time": "2024-01-27T08:32:00.428609",
     "exception": false,
     "start_time": "2024-01-27T08:31:58.494385",
     "status": "completed"
    },
    "tags": []
   },
   "outputs": [
    {
     "name": "stdout",
     "output_type": "stream",
     "text": [
      "Downloading test.csv to D:\\jupyter\n",
      "\n"
     ]
    },
    {
     "name": "stderr",
     "output_type": "stream",
     "text": [
      "\n",
      "  0%|          | 0.00/364k [00:00<?, ?B/s]\n",
      "100%|##########| 364k/364k [00:00<00:00, 745kB/s]\n",
      "100%|##########| 364k/364k [00:00<00:00, 745kB/s]\n"
     ]
    }
   ],
   "source": [
    "! kaggle competitions download -c spaceship-titanic -f test.csv"
   ]
  }
 ],
 "metadata": {
  "kernelspec": {
   "display_name": "Python 3 (ipykernel)",
   "language": "python",
   "name": "python3"
  },
  "language_info": {
   "codemirror_mode": {
    "name": "ipython",
    "version": 3
   },
   "file_extension": ".py",
   "mimetype": "text/x-python",
   "name": "python",
   "nbconvert_exporter": "python",
   "pygments_lexer": "ipython3",
   "version": "3.9.13"
  },
  "papermill": {
   "default_parameters": {},
   "duration": 5.872217,
   "end_time": "2024-01-27T08:32:00.667649",
   "environment_variables": {},
   "exception": null,
   "input_path": "D:\\jupyter\\load_data.ipynb",
   "output_path": "D:\\jupyter\\load_data.ipynb",
   "parameters": {},
   "start_time": "2024-01-27T08:31:54.795432",
   "version": "2.5.0"
  }
 },
 "nbformat": 4,
 "nbformat_minor": 5
}